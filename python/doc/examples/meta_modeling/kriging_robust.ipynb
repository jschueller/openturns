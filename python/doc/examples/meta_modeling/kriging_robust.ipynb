{
 "cells": [
  {
   "cell_type": "markdown",
   "metadata": {},
   "source": [
    "# Robust estimation of kriging hyperparameters"
   ]
  },
  {
   "cell_type": "markdown",
   "metadata": {},
   "source": [
    "In this example we are going to create a kriging metamodel with robust estimation of the hyperparameters.\n",
    "\n",
    "Here\n",
    "\n",
    "$$h(x) = cos(x_1 + x_2)$$"
   ]
  },
  {
   "cell_type": "code",
   "execution_count": null,
   "metadata": {},
   "outputs": [],
   "source": [
    "from __future__ import print_function\n",
    "import openturns as ot"
   ]
  },
  {
   "cell_type": "code",
   "execution_count": null,
   "metadata": {},
   "outputs": [],
   "source": [
    "# prepare some X/Y data\n",
    "ot.RandomGenerator.SetSeed(0)\n",
    "dimension = 2\n",
    "input_names = ['x1', 'x2']\n",
    "formulas = ['cos(x1 + x2)']\n",
    "model = ot.SymbolicFunction(input_names, formulas)\n",
    "distribution = ot.Normal(dimension)\n",
    "x  = distribution.getSample(30)\n",
    "y = model(x)"
   ]
  },
  {
   "cell_type": "code",
   "execution_count": null,
   "metadata": {},
   "outputs": [],
   "source": [
    "# create a kriging model\n",
    "basis = ot.ConstantBasisFactory(dimension).build()\n",
    "covarianceModel = ot.SquaredExponential([0.1]*dimension, [1.0])\n",
    "algo = ot.KrigingAlgorithm(x, y, covarianceModel, basis)"
   ]
  },
  {
   "cell_type": "code",
   "execution_count": null,
   "metadata": {},
   "outputs": [],
   "source": [
    "# chose a prior type\n",
    "algo.setScalePrior(ot.GeneralLinearModelAlgorithm.JOINTLYROBUSTPRIOR)\n",
    "# or algo.setScalePrior(ot.GeneralLinearModelAlgorithm.REFERENCEPRIOR)"
   ]
  },
  {
   "cell_type": "code",
   "execution_count": null,
   "metadata": {},
   "outputs": [],
   "source": [
    "# chose a parametrization in which the scale is optimized\n",
    "algo.setScaleParametrization(ot.CovarianceModelImplementation.STANDARD)\n",
    "# or algo.setScaleParametrization(ot.GeneralLinearModelAlgorithm.INVERSE)\n",
    "# or algo.setScaleParametrization(ot.GeneralLinearModelAlgorithm.LOGINVERSE)"
   ]
  },
  {
   "cell_type": "code",
   "execution_count": null,
   "metadata": {},
   "outputs": [],
   "source": [
    "algo.run()\n",
    "result = algo.getResult()\n",
    "responseSurface = result.getMetaModel()"
   ]
  },
  {
   "cell_type": "code",
   "execution_count": null,
   "metadata": {},
   "outputs": [],
   "source": [
    "# plot 2nd output of our model with x1=0.5\n",
    "graph = ot.ParametricFunction(responseSurface, [0], [0.5]).draw(-0.5, 0.5)\n",
    "curve = ot.ParametricFunction(model, [0], [0.5]).draw(-0.5, 0.5).getDrawable(0)\n",
    "curve.setColor('red')\n",
    "graph.add(curve)\n",
    "graph"
   ]
  }
 ],
 "metadata": {
  "kernelspec": {
   "display_name": "Python 3",
   "language": "python",
   "name": "python3"
  },
  "language_info": {
   "codemirror_mode": {
    "name": "ipython",
    "version": 3
   },
   "file_extension": ".py",
   "mimetype": "text/x-python",
   "name": "python",
   "nbconvert_exporter": "python",
   "pygments_lexer": "ipython3",
   "version": "3.5.2"
  }
 },
 "nbformat": 4,
 "nbformat_minor": 1
}
